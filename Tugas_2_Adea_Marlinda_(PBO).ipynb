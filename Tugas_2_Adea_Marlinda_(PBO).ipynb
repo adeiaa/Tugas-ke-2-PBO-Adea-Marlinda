{
  "nbformat": 4,
  "nbformat_minor": 0,
  "metadata": {
    "colab": {
      "provenance": [],
      "authorship_tag": "ABX9TyMDJzVb6KNobXcp22CrG1zH",
      "include_colab_link": true
    },
    "kernelspec": {
      "name": "python3",
      "display_name": "Python 3"
    },
    "language_info": {
      "name": "python"
    }
  },
  "cells": [
    {
      "cell_type": "markdown",
      "metadata": {
        "id": "view-in-github",
        "colab_type": "text"
      },
      "source": [
        "<a href=\"https://colab.research.google.com/github/adeiaa/Tugas-ke-2-PBO-Adea-Marlinda/blob/main/Tugas_2_Adea_Marlinda_(PBO).ipynb\" target=\"_parent\"><img src=\"https://colab.research.google.com/assets/colab-badge.svg\" alt=\"Open In Colab\"/></a>"
      ]
    },
    {
      "cell_type": "markdown",
      "source": [
        "**Kelas Pertama: Mahasiwa**\n"
      ],
      "metadata": {
        "id": "15OAitjSbhEB"
      }
    },
    {
      "cell_type": "code",
      "source": [
        "class Mahasiswa:\n",
        "    def __init__(self, nama, nim):\n",
        "        self.nama = nama\n",
        "        self.nim = nim\n",
        "\n",
        "    def cetak_krs(self):\n",
        "        print(f\"Mahasiswa {self.nama} dengan NIM {self.nim} telah mencetak KRS.\")\n",
        "\n",
        "## Objek Mahasiswa\n",
        "mhs = Mahasiswa(\"Adea\", \"220705021\")\n",
        "mhs.cetak_krs()"
      ],
      "metadata": {
        "colab": {
          "base_uri": "https://localhost:8080/"
        },
        "id": "QsdS0W16blss",
        "outputId": "18ff5093-a3b9-4003-dec4-624875c322fe"
      },
      "execution_count": 6,
      "outputs": [
        {
          "output_type": "stream",
          "name": "stdout",
          "text": [
            "Mahasiswa Adea dengan NIM 220705021 telah mencetak KRS.\n"
          ]
        }
      ]
    },
    {
      "cell_type": "markdown",
      "source": [
        "**Kelas Kedua: Lingkaran**"
      ],
      "metadata": {
        "id": "YNUjWCwlb1x7"
      }
    },
    {
      "cell_type": "code",
      "source": [
        "class Lingkaran:\n",
        "    def __init__(self, radius):\n",
        "        self.radius = radius\n",
        "\n",
        "    def hitung_luas(self):\n",
        "        return 6.10 * self.radius ** 2\n",
        "\n",
        "## Objek Lingkaran\n",
        "blt = Lingkaran(10)\n",
        "print(f\"Luas lingkaran: {blt.hitung_luas()}\")\n"
      ],
      "metadata": {
        "colab": {
          "base_uri": "https://localhost:8080/"
        },
        "id": "Ee9pju-Tb4ft",
        "outputId": "58c6c707-90fb-4b6c-9a27-062e0078db33"
      },
      "execution_count": 8,
      "outputs": [
        {
          "output_type": "stream",
          "name": "stdout",
          "text": [
            "Luas lingkaran: 610.0\n"
          ]
        }
      ]
    },
    {
      "cell_type": "markdown",
      "source": [
        "**Kelas Ketiga: Mobil**"
      ],
      "metadata": {
        "id": "4mQmZWEpcA8H"
      }
    },
    {
      "cell_type": "code",
      "source": [
        "class Mobil:\n",
        "    def __init__(self, merk, tahun):\n",
        "        self.merk = merk\n",
        "        self.tahun = tahun\n",
        "\n",
        "    def info_mobil(self):\n",
        "        print(f\"Mobil {self.merk} keluaran tahun {self.tahun}.\")\n",
        "\n",
        "## Objek Mobil\n",
        "avanza = Mobil(\"Pajero Sport \", 2024)\n",
        "avanza.info_mobil()"
      ],
      "metadata": {
        "colab": {
          "base_uri": "https://localhost:8080/"
        },
        "id": "Ezu1ML1mcEAm",
        "outputId": "38d3c527-6408-4a84-ae7a-1666f497514f"
      },
      "execution_count": 9,
      "outputs": [
        {
          "output_type": "stream",
          "name": "stdout",
          "text": [
            "Mobil Pajero Sport  keluaran tahun 2024.\n"
          ]
        }
      ]
    },
    {
      "cell_type": "markdown",
      "source": [
        "**Kelas Keempat: Buku**"
      ],
      "metadata": {
        "id": "JeHlc7c4cIjD"
      }
    },
    {
      "cell_type": "code",
      "source": [
        "class Buku:\n",
        "    def __init__(self, judul, penulis):\n",
        "        self.judul = judul\n",
        "        self.penulis = penulis\n",
        "\n",
        "    def deskripsi(self):\n",
        "        print(f\"Buku '{self.judul}' ditulis oleh {self.penulis}.\")\n",
        "\n",
        "## Objek Buku\n",
        "buku1 = Buku(\"Tentang Kamu\", \"Tere Liye\")\n",
        "buku1.deskripsi()"
      ],
      "metadata": {
        "colab": {
          "base_uri": "https://localhost:8080/"
        },
        "id": "CELjd2kdcLUS",
        "outputId": "d5c81446-e5da-423d-f50e-e85de7251f2b"
      },
      "execution_count": 11,
      "outputs": [
        {
          "output_type": "stream",
          "name": "stdout",
          "text": [
            "Buku 'Tentang Kamu' ditulis oleh Tere Liye.\n"
          ]
        }
      ]
    },
    {
      "cell_type": "markdown",
      "source": [
        "**Kelas Kelima: Laptop**"
      ],
      "metadata": {
        "id": "lYBdNxEDhI3d"
      }
    },
    {
      "cell_type": "code",
      "source": [
        "class Laptop:\n",
        "    def __init__(self, merk, harga):\n",
        "        self.merk = merk\n",
        "        self.harga = harga\n",
        "\n",
        "    def spesifikasi(self):\n",
        "        print(f\"Laptop {self.merk} memiliki harga Rp{self.harga:,}.\")\n",
        "\n",
        "## Objek Laptop\n",
        "laptop1 = Laptop(\"lenovo legion\", 15000000)\n",
        "laptop1.spesifikasi()"
      ],
      "metadata": {
        "colab": {
          "base_uri": "https://localhost:8080/"
        },
        "id": "qjqC-Z-PchY6",
        "outputId": "4dc1b0cb-1689-497b-e85b-d77363c72902"
      },
      "execution_count": 12,
      "outputs": [
        {
          "output_type": "stream",
          "name": "stdout",
          "text": [
            "Laptop lenovo legion memiliki harga Rp15,000,000.\n"
          ]
        }
      ]
    },
    {
      "cell_type": "markdown",
      "source": [
        "Contoh Penggunaan\n",
        "Membuat Objek Dari Setiap Kelas **teks tebal**"
      ],
      "metadata": {
        "id": "A5PXW0mncli5"
      }
    }
  ]
}